{
 "metadata": {
  "language_info": {
   "codemirror_mode": {
    "name": "ipython",
    "version": 3
   },
   "file_extension": ".py",
   "mimetype": "text/x-python",
   "name": "python",
   "nbconvert_exporter": "python",
   "pygments_lexer": "ipython3",
   "version": "3.8.5-final"
  },
  "orig_nbformat": 2,
  "kernelspec": {
   "name": "python3",
   "display_name": "Python 3",
   "language": "python"
  }
 },
 "nbformat": 4,
 "nbformat_minor": 2,
 "cells": [
  {
   "cell_type": "code",
   "execution_count": null,
   "metadata": {},
   "outputs": [],
   "source": [
    "# using jupiter to view the data \n",
    "\n",
    "import pandas\n",
    "import wbdata\n",
    "import os\n"
   ]
  },
  {
   "cell_type": "code",
   "execution_count": 69,
   "metadata": {},
   "outputs": [],
   "source": [
    "\n",
    "gnha_ind = {\"SE.ADT.LITR.ZS\":\"Literacy rate, adult total (% of people ages 15 and above)\"}\n",
    "                                                                 \n",
    "df= wbdata.get_dataframe(indicators=gnha_ind, country='all',  keep_levels=False)\n",
    "df.reset_index(level=df.index.names, inplace=True)"
   ]
  },
  {
   "cell_type": "code",
   "execution_count": 70,
   "metadata": {},
   "outputs": [
    {
     "output_type": "execute_result",
     "data": {
      "text/plain": [
       "Index(['country', 'date',\n",
       "       'Literacy rate, adult total (% of people ages 15 and above)'],\n",
       "      dtype='object')"
      ]
     },
     "metadata": {},
     "execution_count": 70
    }
   ],
   "source": [
    "df.columns"
   ]
  },
  {
   "cell_type": "code",
   "execution_count": 71,
   "metadata": {},
   "outputs": [
    {
     "output_type": "execute_result",
     "data": {
      "text/plain": [
       "      country  date  \\\n",
       "0  Arab World  2020   \n",
       "1  Arab World  2019   \n",
       "2  Arab World  2018   \n",
       "3  Arab World  2017   \n",
       "4  Arab World  2016   \n",
       "5  Arab World  2015   \n",
       "6  Arab World  2014   \n",
       "7  Arab World  2013   \n",
       "8  Arab World  2012   \n",
       "9  Arab World  2011   \n",
       "\n",
       "   Literacy rate, adult total (% of people ages 15 and above)  \n",
       "0                                                NaN           \n",
       "1                                          73.114250           \n",
       "2                                          72.869087           \n",
       "3                                          75.766823           \n",
       "4                                          74.840797           \n",
       "5                                          73.499390           \n",
       "6                                          75.713890           \n",
       "7                                          74.043579           \n",
       "8                                          74.435692           \n",
       "9                                          71.060608           "
      ],
      "text/html": "<div>\n<style scoped>\n    .dataframe tbody tr th:only-of-type {\n        vertical-align: middle;\n    }\n\n    .dataframe tbody tr th {\n        vertical-align: top;\n    }\n\n    .dataframe thead th {\n        text-align: right;\n    }\n</style>\n<table border=\"1\" class=\"dataframe\">\n  <thead>\n    <tr style=\"text-align: right;\">\n      <th></th>\n      <th>country</th>\n      <th>date</th>\n      <th>Literacy rate, adult total (% of people ages 15 and above)</th>\n    </tr>\n  </thead>\n  <tbody>\n    <tr>\n      <th>0</th>\n      <td>Arab World</td>\n      <td>2020</td>\n      <td>NaN</td>\n    </tr>\n    <tr>\n      <th>1</th>\n      <td>Arab World</td>\n      <td>2019</td>\n      <td>73.114250</td>\n    </tr>\n    <tr>\n      <th>2</th>\n      <td>Arab World</td>\n      <td>2018</td>\n      <td>72.869087</td>\n    </tr>\n    <tr>\n      <th>3</th>\n      <td>Arab World</td>\n      <td>2017</td>\n      <td>75.766823</td>\n    </tr>\n    <tr>\n      <th>4</th>\n      <td>Arab World</td>\n      <td>2016</td>\n      <td>74.840797</td>\n    </tr>\n    <tr>\n      <th>5</th>\n      <td>Arab World</td>\n      <td>2015</td>\n      <td>73.499390</td>\n    </tr>\n    <tr>\n      <th>6</th>\n      <td>Arab World</td>\n      <td>2014</td>\n      <td>75.713890</td>\n    </tr>\n    <tr>\n      <th>7</th>\n      <td>Arab World</td>\n      <td>2013</td>\n      <td>74.043579</td>\n    </tr>\n    <tr>\n      <th>8</th>\n      <td>Arab World</td>\n      <td>2012</td>\n      <td>74.435692</td>\n    </tr>\n    <tr>\n      <th>9</th>\n      <td>Arab World</td>\n      <td>2011</td>\n      <td>71.060608</td>\n    </tr>\n  </tbody>\n</table>\n</div>"
     },
     "metadata": {},
     "execution_count": 71
    }
   ],
   "source": [
    "df.head(10)\n",
    "\n"
   ]
  },
  {
   "cell_type": "code",
   "execution_count": 73,
   "metadata": {},
   "outputs": [],
   "source": [
    "df.to_csv (r'\\wb_literacyrate.csv', index = False, header=True)\n"
   ]
  },
  {
   "cell_type": "code",
   "execution_count": 74,
   "metadata": {},
   "outputs": [
    {
     "output_type": "execute_result",
     "data": {
      "text/plain": [
       "id    name\n",
       "----  ----------------------------------------------------\n",
       "BEA   East Asia & Pacific (IBRD-only countries)\n",
       "BEC   Europe & Central Asia (IBRD-only countries)\n",
       "BHI   IBRD countries classified as high income\n",
       "BLA   Latin America & the Caribbean (IBRD-only countries)\n",
       "BMN   Middle East & North Africa (IBRD-only countries)\n",
       "BRA   Brazil\n",
       "BRN   Brunei Darussalam\n",
       "BSS   Sub-Saharan Africa (IBRD-only countries)\n",
       "GIB   Gibraltar\n",
       "IBB   IBRD, including blend\n",
       "IBD   IBRD only\n",
       "IBT   IDA & IBRD total\n",
       "TEA   East Asia & Pacific (IDA & IBRD countries)\n",
       "TEC   Europe & Central Asia (IDA & IBRD countries)\n",
       "TLA   Latin America & the Caribbean (IDA & IBRD countries)\n",
       "TMN   Middle East & North Africa (IDA & IBRD countries)\n",
       "TSA   South Asia (IDA & IBRD)\n",
       "TSS   Sub-Saharan Africa (IDA & IBRD countries)\n",
       "VGB   British Virgin Islands"
      ]
     },
     "metadata": {},
     "execution_count": 74
    }
   ],
   "source": [
    "wbdata.search_countries(\"BR\")\n",
    "\n",
    "\n"
   ]
  },
  {
   "cell_type": "code",
   "execution_count": null,
   "metadata": {},
   "outputs": [],
   "source": []
  }
 ]
}